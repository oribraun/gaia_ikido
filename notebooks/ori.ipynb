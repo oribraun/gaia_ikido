{
 "cells": [
  {
   "cell_type": "code",
   "execution_count": 41,
   "outputs": [],
   "source": [
    "import requests\n",
    "import io\n",
    "import PyPDF2\n",
    "def extract_text_from_pdf_url(pdf_url, n=None):\n",
    "    # Download the PDF file from the URL\n",
    "    response = requests.get(pdf_url)\n",
    "    response.raise_for_status()\n",
    "\n",
    "    # Create a file-like object from the downloaded content\n",
    "    pdf_file = io.BytesIO(response.content)\n",
    "\n",
    "    # Create a PDF reader object\n",
    "    pdf_reader = PyPDF2.PdfReader(pdf_file)\n",
    "\n",
    "    # Extract text from each page of the PDF\n",
    "    extracted_text = []\n",
    "    word_count = 0\n",
    "    images_count = 0\n",
    "    results = {\n",
    "        'page_count': 0,\n",
    "        'words_count': 0,\n",
    "        'images_count': 0,\n",
    "        'full_text': ''\n",
    "    }\n",
    "    for page_num in range(len(pdf_reader.pages)):\n",
    "        results['page_count'] = page_num\n",
    "        if n and word_count >= n:\n",
    "            break\n",
    "        page = pdf_reader.pages[page_num]\n",
    "        images = page.images\n",
    "        results['images_count'] += len(images)\n",
    "        page_text = page.extract_text()\n",
    "        words = page_text.split()\n",
    "        for word in words:\n",
    "            extracted_text.append(word)\n",
    "            word_count += 1\n",
    "            results['words_count'] = word_count\n",
    "\n",
    "            if n and word_count >= n:\n",
    "                break\n",
    "\n",
    "    results['full_text'] = ' '.join(extracted_text[:n])\n",
    "    return results"
   ],
   "metadata": {
    "collapsed": false,
    "pycharm": {
     "name": "#%%\n"
    }
   }
  },
  {
   "cell_type": "code",
   "execution_count": 42,
   "outputs": [],
   "source": [
    "pdf_datasheet_url = 'https://app.ikido.tech/api/datasheet/9cd85784796b00d29e76deaefc9f8ad43a9c199b268a953546b6027c572e9c6d0713fd4b62cfaf3cb3c0ac07f477668c088f63562542db5ececb7627258d84e7/KEM_T2005_T491-1093550.pdf'\n",
    "results = extract_text_from_pdf_url(pdf_datasheet_url, None)"
   ],
   "metadata": {
    "collapsed": false,
    "pycharm": {
     "name": "#%%\n"
    }
   }
  },
  {
   "cell_type": "code",
   "execution_count": 43,
   "outputs": [],
   "source": [
    "import tabula\n",
    "tables = tabula.read_pdf(pdf_datasheet_url, pages='all', multiple_tables=True)\n",
    "results['tables_count'] = len(tables)"
   ],
   "metadata": {
    "collapsed": false,
    "pycharm": {
     "name": "#%%\n"
    }
   }
  },
  {
   "cell_type": "code",
   "execution_count": 24,
   "outputs": [
    {
     "name": "stdout",
     "output_type": "stream",
     "text": [
      "results {\n",
      "  \"page_count\": 3,\n",
      "  \"words_count\": 750,\n",
      "  \"images_count\": 1,\n",
      "  \"full_text\": \"1 \\u00a9 KEMET Electronics Corporation \\u2022 KEMET Tower \\u2022 One East Broward Boulevard T2 005_T491 \\u2022 8/17/2021 Fort Lauderdale, FL 33301 USA \\u2022 954-766-2800 \\u2022 www.kemet.com Built Into TomorrowBenefits \\u2022 Meets or exceeds EIA Standard 535BAAC \\u2022 Ta pe & Reel standard packaging per EIA 481 \\u2022 Sy mmetrical, compliant terminations \\u2022 Op tional gold-plated terminations \\u2022 Las er-marked case \\u2022 10 0% surge current test on C, D, E, U, V, and X sizes \\u2022 Ha logen free epoxy \\u2022 Ca pacitance 0.1 \\u2013 1,000 \\u00b5F \\u2022 To lerance \\u00b110%, \\u00b120% \\u2022 Vo ltage 2.5 \\u2013 50 VDC \\u2022 Ex tended range values \\u2022 Low p rofile c ase s izes \\u2022 Ro HS compliant and lead-free terminations \\u2022 Operating t emperature r ange o f \\u2212 55\\u00b0C t o + 125\\u00b0COverview The KEMET T491, designed specifically for t oday\\u2019s highly automated sur face mount processes and equipment, is the leading choice for surface mount designs. The T491 combines KEME T\\u2019s pr oven solid tantalum technology , acclaimed and respected thr oughout the world, with the latest in materials, processes, and automation, resulting in unsurpassed total performance and value. This product meets or exceeds the requirements of EIA standard 535BAAC. The T491 is classified as moistur e sensitivity lev el (MSL) 1 under J STD 020, with unlimited floor lif e time at \\u2264 30\\u00b0C/85% RH. The T491 standar d terminations ar e av ailable in 100% matte tin and provide excellent wetting characteristics and compatibility with today's surface mount solder systems. Tin/lead (Sn/Pb) terminations are available upon request for any part number. Gold-plated terminations are also available for use with conductive epoxy attachment processes. Standard packaging of these devices is Tape & Reel in accordance with EIA 481. This system provides perfect compatibility with all tape-fed placement units.Tantalum Surface Mount Capacitors \\u2013 Standard Tantalum T491 Industrial Grade MnO2 Applications Typical applications include decoupling and filtering in many end applications, such as DC/DC converters, portable electronics, telecommunications, and contr ol units. Environmental Compliance RoHS compliant (6/6) according to Directive 2002/95/EC when ordered with 100% Sn solder, Gold-plated or Non-magnetic 100% Sn solder.\\u2022 H alogen-free \\u2022 Ep oxy compliant with UL94 V-0 \\u2022 Mo lded Epoxy complies for outgassing testing under ASTM E 595. 2 \\u00a9 KEMET Electronics Corporation \\u2022 KEMET Tower \\u2022 One East Broward Boulevard T2 005_T491 \\u2022 8/17/2021 Fort Lauderdale, FL 33301 USA \\u2022 954-766-2800 \\u2022 www.kemet.com 2 Tantalum Surface Mount Capacitors \\u2013 Standard Tantalum T491 Industrial Grade MnO2K-SIM For a detailed analysis of specific part numbers, please visit ksim.kemet.com to access KEMET\\u2019s K-SIM software. KEMET K-SIM is designed t o simulate behavior of components with respect to frequency, ambient temperature, and DC bias levels. Ordering Information T 491 X 157 K 020 A T Capacitor ClassSeries Case Size Capacitance Code (pF)Capacitance ToleranceRated Voltage (VDC)Failure Rate/ DesignTermination FinishPackaging (C-Spec) T = TantalumIndustrial A, B, C, D, E, M, S, T, U, V, W, XFirst two digits represent significant fig ures. T hird di git s pecifies nu mber of zeros.K = \\u00b110% M = \\u00b120%2R5 = 2.5 003 = 3 004 = 4 006 = 6.3 010 = 10 016 = 16 020 = 20 025 = 25 035 = 35 050 = 50 A = N/AT = 100% Matte tin (Sn)-plated H = Standard solder coated (SnPb 5% Pb minimum) G = Gold-plated (A, B, C, D, X only) N = Non-magnetic 100% tin (Sn)M = Non-magnetic (SnPb)Blank = 7\\\" reel 7280 = 13\\\" reel Performance Characteristics Item Performance Characteristics Operating Temperature \\u221255\\u00b0C t o 1 25\\u00b0C Rated Capacitance Range 0.1 \\u2013 1 ,000 \\u00b5 F a t 1 20 H z/25\\u00b0C Capacitance Tolerance K tolerance (10%), M tolerance (20%) Rated Voltage Range 2.5 \\u2013 50 V DF (120 Hz) Refer t o P art N umber E lectrical S pecification T able ES R (100 kHz) Refer t o P art N umber E lectrical S pecification T able Le akage Current \\u2264 0 .01 C V ( \\u00b5A) a t r ated v oltage a fter 5 m inutes 3 \\u00a9 KEMET Electronics Corporation \\u2022 KEMET Tower \\u2022 One East Broward Boulevard T2 005_T491 \\u2022 8/17/2021 Fort Lauderdale, FL 33301 USA \\u2022 954-766-2800 \\u2022 www.kemet.com 3 Tantalum Surface Mount Capacitors \\u2013 Standard Tantalum T491 Industrial Grade MnO2Qualification Test Condition Characteristics Endurance85\\u00b0C at rated voltage, 2,000 hours 125\\u00b0C at 2/3 rated voltage, 2,000 hours\\u0394 C /C Within \\u00b110% of initial value DF Within initial limits DCL Within 1.25 x initial limit ESR Within initial limits\",\n",
      "  \"tables_count\": 30\n",
      "}\n"
     ]
    }
   ],
   "source": [
    "import json\n",
    "print('results', json.dumps(results, indent=2))\n",
    "# for table in tables:\n",
    "#     print(table.head())"
   ],
   "metadata": {
    "collapsed": false,
    "pycharm": {
     "name": "#%%\n"
    }
   }
  },
  {
   "cell_type": "code",
   "execution_count": 22,
   "outputs": [
    {
     "data": {
      "text/plain": "                      Item                                         Unnamed: 0  \\\n0    Operating Temperature                                     −55°C to 125°C   \n1  Rated Capacitance Range                      0.1 – 1,000 μF at 120 Hz/25°C   \n2    Capacitance Tolerance               K tolerance (10%), M tolerance (20%)   \n3      Rated Voltage Range                                         2.5 – 50 V   \n4              DF (120 Hz)  Refer to Part Number Electrical Specification ...   \n\n   Performance Characteristics  \n0                          NaN  \n1                          NaN  \n2                          NaN  \n3                          NaN  \n4                          NaN  ",
      "text/html": "<div>\n<style scoped>\n    .dataframe tbody tr th:only-of-type {\n        vertical-align: middle;\n    }\n\n    .dataframe tbody tr th {\n        vertical-align: top;\n    }\n\n    .dataframe thead th {\n        text-align: right;\n    }\n</style>\n<table border=\"1\" class=\"dataframe\">\n  <thead>\n    <tr style=\"text-align: right;\">\n      <th></th>\n      <th>Item</th>\n      <th>Unnamed: 0</th>\n      <th>Performance Characteristics</th>\n    </tr>\n  </thead>\n  <tbody>\n    <tr>\n      <th>0</th>\n      <td>Operating Temperature</td>\n      <td>−55°C to 125°C</td>\n      <td>NaN</td>\n    </tr>\n    <tr>\n      <th>1</th>\n      <td>Rated Capacitance Range</td>\n      <td>0.1 – 1,000 μF at 120 Hz/25°C</td>\n      <td>NaN</td>\n    </tr>\n    <tr>\n      <th>2</th>\n      <td>Capacitance Tolerance</td>\n      <td>K tolerance (10%), M tolerance (20%)</td>\n      <td>NaN</td>\n    </tr>\n    <tr>\n      <th>3</th>\n      <td>Rated Voltage Range</td>\n      <td>2.5 – 50 V</td>\n      <td>NaN</td>\n    </tr>\n    <tr>\n      <th>4</th>\n      <td>DF (120 Hz)</td>\n      <td>Refer to Part Number Electrical Specification ...</td>\n      <td>NaN</td>\n    </tr>\n  </tbody>\n</table>\n</div>"
     },
     "execution_count": 22,
     "metadata": {},
     "output_type": "execute_result"
    }
   ],
   "source": [
    "tables[1].head()"
   ],
   "metadata": {
    "collapsed": false,
    "pycharm": {
     "name": "#%%\n"
    }
   }
  },
  {
   "cell_type": "code",
   "execution_count": 5,
   "outputs": [
    {
     "ename": "IndexError",
     "evalue": "list index out of range",
     "output_type": "error",
     "traceback": [
      "\u001B[1;31m---------------------------------------------------------------------------\u001B[0m",
      "\u001B[1;31mIndexError\u001B[0m                                Traceback (most recent call last)",
      "Cell \u001B[1;32mIn[5], line 1\u001B[0m\n\u001B[1;32m----> 1\u001B[0m \u001B[43mtables\u001B[49m\u001B[43m[\u001B[49m\u001B[38;5;241;43m2\u001B[39;49m\u001B[43m]\u001B[49m\u001B[38;5;241m.\u001B[39mhead()\n",
      "\u001B[1;31mIndexError\u001B[0m: list index out of range"
     ]
    }
   ],
   "source": [
    "tables[2].head()"
   ],
   "metadata": {
    "collapsed": false,
    "pycharm": {
     "name": "#%%\n"
    }
   }
  },
  {
   "cell_type": "code",
   "execution_count": null,
   "outputs": [],
   "source": [],
   "metadata": {
    "collapsed": false,
    "pycharm": {
     "name": "#%%\n"
    }
   }
  }
 ],
 "metadata": {
  "kernelspec": {
   "display_name": "Python 3",
   "language": "python",
   "name": "python3"
  },
  "language_info": {
   "codemirror_mode": {
    "name": "ipython",
    "version": 2
   },
   "file_extension": ".py",
   "mimetype": "text/x-python",
   "name": "python",
   "nbconvert_exporter": "python",
   "pygments_lexer": "ipython2",
   "version": "2.7.6"
  }
 },
 "nbformat": 4,
 "nbformat_minor": 0
}