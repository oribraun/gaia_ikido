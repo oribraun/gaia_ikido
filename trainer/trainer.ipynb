{
 "cells": [
  {
   "cell_type": "code",
   "execution_count": null,
   "metadata": {
    "collapsed": true,
    "pycharm": {
     "name": "#%%\n"
    }
   },
   "outputs": [],
   "source": [
    "import pandas as pd\n",
    "\n",
    "from trainer.prep_data_for_training import PrepDataForTrainer\n",
    "\n",
    "p_trainer = PrepDataForTrainer(\n",
    "    debug=True,\n",
    "    data_folder='./trainer/data',\n",
    "    mandatory_columns=['datasheet'],\n",
    "    potential_columns=['category', 'sub_category', 'cleaned_text', 'new_score', 'new_label'],\n",
    "    remove_duplicate_columns=['datasheet']\n",
    ")"
   ]
  },
  {
   "cell_type": "code",
   "execution_count": null,
   "outputs": [],
   "source": [
    "files = p_trainer.load_files()"
   ],
   "metadata": {
    "collapsed": false,
    "pycharm": {
     "name": "#%%\n"
    }
   }
  },
  {
   "cell_type": "code",
   "execution_count": null,
   "outputs": [],
   "source": [
    "merged_df = p_trainer.read_and_merge_files(files)"
   ],
   "metadata": {
    "collapsed": false,
    "pycharm": {
     "name": "#%%\n"
    }
   }
  },
  {
   "cell_type": "code",
   "execution_count": null,
   "outputs": [],
   "source": [
    "non_duplicate = p_trainer.remove_duplicate(merged_df)"
   ],
   "metadata": {
    "collapsed": false,
    "pycharm": {
     "name": "#%%\n"
    }
   }
  },
  {
   "cell_type": "code",
   "execution_count": null,
   "outputs": [],
   "source": [
    "p_trainer.save_df(non_duplicate, './trainer/output/test_notebook.csv')\n",
    "p_trainer.save_df(non_duplicate, './trainer/output/test_notebook.xlsx')"
   ],
   "metadata": {
    "collapsed": false,
    "pycharm": {
     "name": "#%%\n"
    }
   }
  },
  {
   "cell_type": "markdown",
   "source": [],
   "metadata": {
    "collapsed": false,
    "pycharm": {
     "name": "#%% md\n"
    }
   }
  },
  {
   "cell_type": "code",
   "execution_count": null,
   "outputs": [],
   "source": [
    "rows_count = non_duplicate.shape[0]\n",
    "columns_count = non_duplicate.shape[1]\n",
    "print('rows_count:', rows_count)\n",
    "print('columns_count:', columns_count)"
   ],
   "metadata": {
    "collapsed": false,
    "pycharm": {
     "name": "#%%\n"
    }
   }
  },
  {
   "cell_type": "code",
   "execution_count": null,
   "outputs": [],
   "source": [
    "train_df = p_trainer.run_preprocess(non_duplicate, steps=5, stop=5)"
   ],
   "metadata": {
    "collapsed": false,
    "pycharm": {
     "name": "#%%\n"
    }
   }
  },
  {
   "cell_type": "code",
   "execution_count": null,
   "outputs": [],
   "source": [
    "rows_count = train_df.shape[0]\n",
    "columns_count = train_df.shape[1]\n",
    "print('rows_count:', rows_count)\n",
    "print('columns_count:', columns_count)\n",
    "p_trainer.save_df(train_df, './trainer/output/train_notebook.csv')\n",
    "p_trainer.save_df(train_df, './trainer/output/train_notebook.xlsx')\n",
    "# predictables[0].features"
   ],
   "metadata": {
    "collapsed": false,
    "pycharm": {
     "name": "#%%\n"
    }
   }
  },
  {
   "cell_type": "code",
   "execution_count": 24,
   "outputs": [
    {
     "name": "stdout",
     "output_type": "stream",
     "text": [
      "rows_count: 5\n",
      "columns_count: 32\n"
     ]
    }
   ],
   "source": [
    "load_df = p_trainer.load_df('./trainer/output/train_notebook.csv')\n",
    "rows_count = load_df.shape[0]\n",
    "columns_count = load_df.shape[1]\n",
    "print('rows_count:', rows_count)\n",
    "print('columns_count:', columns_count)"
   ],
   "metadata": {
    "collapsed": false,
    "pycharm": {
     "name": "#%%\n"
    }
   }
  },
  {
   "cell_type": "code",
   "execution_count": 27,
   "outputs": [
    {
     "data": {
      "text/plain": "                                           datasheet category    sub_category  \\\n0  https://app.ikido.tech/api/datasheet/15622b0b7...       IC       Amplifier   \n1  https://app.ikido.tech/api/datasheet/c595c8864...       IC           Power   \n2  https://app.ikido.tech/api/datasheet/6d8cad99e...   Diodes  ESD Suppressor   \n3  https://app.ikido.tech/api/datasheet/4cbc0130d...       IC          Memory   \n4  https://app.ikido.tech/api/datasheet/bd3995f13...       IC           Power   \n\n                                        cleaned_text  new_score new_label  \\\n0  product discontinuance document #: pdx issue d...   0.971060        IC   \n1  © semiconductor components industries, llc, ap...   0.998133        IC   \n2  product change notification pcn date: apr p/ s...   0.979630        IC   \n3  product catalog worldwide leader in legacy mem...   0.997207        IC   \n4  data sheet please read the important notice an...   0.997592        IC   \n\n                                             pdf_url  \\\n0  https://app.ikido.tech/api/datasheet/15622b0b7...   \n1  https://app.ikido.tech/api/datasheet/c595c8864...   \n2  https://app.ikido.tech/api/datasheet/6d8cad99e...   \n3  https://app.ikido.tech/api/datasheet/4cbc0130d...   \n4  https://app.ikido.tech/api/datasheet/bd3995f13...   \n\n                                    table_of_content  number_of_pages  \\\n0  [[1, 'PD24134X_Final', 1], [1, 'Japanese verbi...                5   \n1                                                 []               14   \n2  [[1, 'PCN-000615_RClamp0524PATCT_Les.r0', 1], ...               21   \n3                                                 []               40   \n4                                                 []               24   \n\n                                           meta_data  ...  \\\n0  {'format': 'PDF 1.7', 'title': '', 'author': '...  ...   \n1  {'format': 'PDF 1.6', 'title': 'MC79L00 - Nega...  ...   \n2  {'format': 'PDF 1.7', 'title': '', 'author': '...  ...   \n3  {'format': 'PDF 1.4', 'title': '', 'author': '...  ...   \n4  {'format': 'PDF 1.5', 'title': 'Quasi-Resonant...  ...   \n\n                                                urls n_urls  \\\n0                                                 []      0   \n1  ['www.onsemi.com', 'www.onsemi.com/site/pdf/Pa...      2   \n2  ['http://www.semtech.com/contact/index.html#su...      2   \n3                         ['www.alliancememory.com']      1   \n4                               ['www.infineon.com']      1   \n\n                                             numbers  n_numbers  \\\n0  ['001799', '0209', '08', '1', '12', '1771', '2...         24   \n1  ['0', '00', '000', '0001', '00010010', '004', ...        170   \n2  ['0', '00', '000', '000615', '0007', '002', '0...        165   \n3  ['0', '00288', '004', '0045', '008', '01', '01...        525   \n4  ['0', '00', '03', '05', '063', '09', '1', '10'...        105   \n\n                                keywords_counts_dict  \\\n0  {'mA': 16, 'part number': 1, 'V': 39, 'uF': 2,...   \n1  {'accuracy': 1, 'mA': 220, 'gain': 1, 'output ...   \n2  {'pF': 5, 'mA': 79, 'gain': 1, 'inductance': 1...   \n3  {'pF': 2, 'mA': 72, 'part number': 2, 'mH': 11...   \n4  {'pF': 4, 'mA': 148, 'gain': 7, 'power rating'...   \n\n                                            keywords n_keywords  \\\n0   ['mA', 'part number', 'V', 'uF', 'H', 'A', 'nF']        369   \n1  ['accuracy', 'mA', 'gain', 'output voltage', '...       2523   \n2  ['pF', 'mA', 'gain', 'inductance', 'reverse vo...       2211   \n3  ['pF', 'mA', 'part number', 'mH', 'V', 'uH', '...       4645   \n4  ['pF', 'mA', 'gain', 'power rating', 'output v...       4042   \n\n       negative_keywords_counts_dict           negative_keywords  \\\n0  {'pcn': 16, 'title of change': 1}  ['pcn', 'title of change']   \n1                                 {}                          []   \n2                         {'pcn': 2}                     ['pcn']   \n3                         {'pcn': 3}                     ['pcn']   \n4                {'major change': 1}            ['major change']   \n\n   n_negative_keywords  \n0                   17  \n1                    0  \n2                    2  \n3                    3  \n4                    1  \n\n[5 rows x 32 columns]",
      "text/html": "<div>\n<style scoped>\n    .dataframe tbody tr th:only-of-type {\n        vertical-align: middle;\n    }\n\n    .dataframe tbody tr th {\n        vertical-align: top;\n    }\n\n    .dataframe thead th {\n        text-align: right;\n    }\n</style>\n<table border=\"1\" class=\"dataframe\">\n  <thead>\n    <tr style=\"text-align: right;\">\n      <th></th>\n      <th>datasheet</th>\n      <th>category</th>\n      <th>sub_category</th>\n      <th>cleaned_text</th>\n      <th>new_score</th>\n      <th>new_label</th>\n      <th>pdf_url</th>\n      <th>table_of_content</th>\n      <th>number_of_pages</th>\n      <th>meta_data</th>\n      <th>...</th>\n      <th>urls</th>\n      <th>n_urls</th>\n      <th>numbers</th>\n      <th>n_numbers</th>\n      <th>keywords_counts_dict</th>\n      <th>keywords</th>\n      <th>n_keywords</th>\n      <th>negative_keywords_counts_dict</th>\n      <th>negative_keywords</th>\n      <th>n_negative_keywords</th>\n    </tr>\n  </thead>\n  <tbody>\n    <tr>\n      <th>0</th>\n      <td>https://app.ikido.tech/api/datasheet/15622b0b7...</td>\n      <td>IC</td>\n      <td>Amplifier</td>\n      <td>product discontinuance document #: pdx issue d...</td>\n      <td>0.971060</td>\n      <td>IC</td>\n      <td>https://app.ikido.tech/api/datasheet/15622b0b7...</td>\n      <td>[[1, 'PD24134X_Final', 1], [1, 'Japanese verbi...</td>\n      <td>5</td>\n      <td>{'format': 'PDF 1.7', 'title': '', 'author': '...</td>\n      <td>...</td>\n      <td>[]</td>\n      <td>0</td>\n      <td>['001799', '0209', '08', '1', '12', '1771', '2...</td>\n      <td>24</td>\n      <td>{'mA': 16, 'part number': 1, 'V': 39, 'uF': 2,...</td>\n      <td>['mA', 'part number', 'V', 'uF', 'H', 'A', 'nF']</td>\n      <td>369</td>\n      <td>{'pcn': 16, 'title of change': 1}</td>\n      <td>['pcn', 'title of change']</td>\n      <td>17</td>\n    </tr>\n    <tr>\n      <th>1</th>\n      <td>https://app.ikido.tech/api/datasheet/c595c8864...</td>\n      <td>IC</td>\n      <td>Power</td>\n      <td>© semiconductor components industries, llc, ap...</td>\n      <td>0.998133</td>\n      <td>IC</td>\n      <td>https://app.ikido.tech/api/datasheet/c595c8864...</td>\n      <td>[]</td>\n      <td>14</td>\n      <td>{'format': 'PDF 1.6', 'title': 'MC79L00 - Nega...</td>\n      <td>...</td>\n      <td>['www.onsemi.com', 'www.onsemi.com/site/pdf/Pa...</td>\n      <td>2</td>\n      <td>['0', '00', '000', '0001', '00010010', '004', ...</td>\n      <td>170</td>\n      <td>{'accuracy': 1, 'mA': 220, 'gain': 1, 'output ...</td>\n      <td>['accuracy', 'mA', 'gain', 'output voltage', '...</td>\n      <td>2523</td>\n      <td>{}</td>\n      <td>[]</td>\n      <td>0</td>\n    </tr>\n    <tr>\n      <th>2</th>\n      <td>https://app.ikido.tech/api/datasheet/6d8cad99e...</td>\n      <td>Diodes</td>\n      <td>ESD Suppressor</td>\n      <td>product change notification pcn date: apr p/ s...</td>\n      <td>0.979630</td>\n      <td>IC</td>\n      <td>https://app.ikido.tech/api/datasheet/6d8cad99e...</td>\n      <td>[[1, 'PCN-000615_RClamp0524PATCT_Les.r0', 1], ...</td>\n      <td>21</td>\n      <td>{'format': 'PDF 1.7', 'title': '', 'author': '...</td>\n      <td>...</td>\n      <td>['http://www.semtech.com/contact/index.html#su...</td>\n      <td>2</td>\n      <td>['0', '00', '000', '000615', '0007', '002', '0...</td>\n      <td>165</td>\n      <td>{'pF': 5, 'mA': 79, 'gain': 1, 'inductance': 1...</td>\n      <td>['pF', 'mA', 'gain', 'inductance', 'reverse vo...</td>\n      <td>2211</td>\n      <td>{'pcn': 2}</td>\n      <td>['pcn']</td>\n      <td>2</td>\n    </tr>\n    <tr>\n      <th>3</th>\n      <td>https://app.ikido.tech/api/datasheet/4cbc0130d...</td>\n      <td>IC</td>\n      <td>Memory</td>\n      <td>product catalog worldwide leader in legacy mem...</td>\n      <td>0.997207</td>\n      <td>IC</td>\n      <td>https://app.ikido.tech/api/datasheet/4cbc0130d...</td>\n      <td>[]</td>\n      <td>40</td>\n      <td>{'format': 'PDF 1.4', 'title': '', 'author': '...</td>\n      <td>...</td>\n      <td>['www.alliancememory.com']</td>\n      <td>1</td>\n      <td>['0', '00288', '004', '0045', '008', '01', '01...</td>\n      <td>525</td>\n      <td>{'pF': 2, 'mA': 72, 'part number': 2, 'mH': 11...</td>\n      <td>['pF', 'mA', 'part number', 'mH', 'V', 'uH', '...</td>\n      <td>4645</td>\n      <td>{'pcn': 3}</td>\n      <td>['pcn']</td>\n      <td>3</td>\n    </tr>\n    <tr>\n      <th>4</th>\n      <td>https://app.ikido.tech/api/datasheet/bd3995f13...</td>\n      <td>IC</td>\n      <td>Power</td>\n      <td>data sheet please read the important notice an...</td>\n      <td>0.997592</td>\n      <td>IC</td>\n      <td>https://app.ikido.tech/api/datasheet/bd3995f13...</td>\n      <td>[]</td>\n      <td>24</td>\n      <td>{'format': 'PDF 1.5', 'title': 'Quasi-Resonant...</td>\n      <td>...</td>\n      <td>['www.infineon.com']</td>\n      <td>1</td>\n      <td>['0', '00', '03', '05', '063', '09', '1', '10'...</td>\n      <td>105</td>\n      <td>{'pF': 4, 'mA': 148, 'gain': 7, 'power rating'...</td>\n      <td>['pF', 'mA', 'gain', 'power rating', 'output v...</td>\n      <td>4042</td>\n      <td>{'major change': 1}</td>\n      <td>['major change']</td>\n      <td>1</td>\n    </tr>\n  </tbody>\n</table>\n<p>5 rows × 32 columns</p>\n</div>"
     },
     "execution_count": 27,
     "metadata": {},
     "output_type": "execute_result"
    }
   ],
   "source": [
    "load_df.head()"
   ],
   "metadata": {
    "collapsed": false,
    "pycharm": {
     "name": "#%%\n"
    }
   }
  }
 ],
 "metadata": {
  "kernelspec": {
   "display_name": "Python 3",
   "language": "python",
   "name": "python3"
  },
  "language_info": {
   "codemirror_mode": {
    "name": "ipython",
    "version": 2
   },
   "file_extension": ".py",
   "mimetype": "text/x-python",
   "name": "python",
   "nbconvert_exporter": "python",
   "pygments_lexer": "ipython2",
   "version": "2.7.6"
  }
 },
 "nbformat": 4,
 "nbformat_minor": 0
}