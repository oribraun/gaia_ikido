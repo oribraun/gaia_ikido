{
 "cells": [
  {
   "cell_type": "code",
   "execution_count": 1,
   "metadata": {
    "collapsed": true,
    "pycharm": {
     "name": "#%%\n"
    }
   },
   "outputs": [],
   "source": [
    "from trainer.prep_data_for_training import PrepDataForTrainer\n",
    "\n",
    "p = PrepDataForTrainer(\n",
    "    debug=True,\n",
    "    data_folder='./trainer/data',\n",
    "    mandatory_columns=['datasheet'],\n",
    "    potential_columns=['category', 'sub_category', 'cleaned_text', 'new_score', 'new_label'],\n",
    "    remove_duplicate_columns=['datasheet']\n",
    ")"
   ]
  },
  {
   "cell_type": "code",
   "execution_count": 2,
   "outputs": [
    {
     "name": "stdout",
     "output_type": "stream",
     "text": [
      "{\"message\": \"INFO - prep_data_for_training - load_files\", \"valid_files\": [\"Ikido_Data (1).xlsx\", \"Ikido_Data (2).xlsx\", \"Ikido_Data - data_01.csv\", \"Ikido_Data - data_01_cleaned_text.csv\", \"Ikido_Data - data_01_Gaia.csv\", \"Ikido_Data - data_01_openAI.csv\", \"Ikido_Data - data_02.csv\", \"Ikido_Data - data_02_clean_text.csv\", \"Ikido_Data - data_02_Gaia.csv\", \"Ikido_Data - data_03.csv\", \"Ikido_Data - data_03_clean_text.csv\", \"Ikido_Data - data_03_Gaia.csv\", \"Ikido_Data.xlsx\"]}\n"
     ]
    }
   ],
   "source": [
    "files = p.load_files()"
   ],
   "metadata": {
    "collapsed": false,
    "pycharm": {
     "name": "#%%\n"
    }
   }
  },
  {
   "cell_type": "code",
   "execution_count": 3,
   "outputs": [
    {
     "name": "stdout",
     "output_type": "stream",
     "text": [
      "{\"message\": \"INFO - prep_data_for_training - read_and_merge_files\", \"columns\": \"Index(['_id', 'description', 'category', 'sub_category', 'item_atts',\\n       'datasheet'],\\n      dtype='object')\"}\n",
      "{\"message\": \"INFO - prep_data_for_training - read_and_merge_files\", \"columns\": \"Index(['_id', 'description', 'category', 'sub_category', 'item_atts',\\n       'datasheet'],\\n      dtype='object')\"}\n",
      "{\"message\": \"INFO - prep_data_for_training - read_and_merge_files\", \"columns\": \"Index(['_id', 'description', 'category', 'sub_category', 'item_atts',\\n       'datasheet'],\\n      dtype='object')\"}\n",
      "{\"message\": \"INFO - prep_data_for_training - read_and_merge_files\", \"columns\": \"Index(['_id', 'description', 'category', 'sub_category', 'item_atts',\\n       'datasheet', 'first_page_text', 'openai_category', 'same',\\n       'cleaned_text'],\\n      dtype='object')\"}\n",
      "{\"message\": \"INFO - prep_data_for_training - read_and_merge_files\", \"columns\": \"Index(['_id', 'description', 'category', 'sub_category', 'item_atts',\\n       'datasheet', 'first_page_text', 'openai_category', 'same',\\n       'cleaned_text', 'new_label', 'new_score', 'raw', 'new_same'],\\n      dtype='object')\"}\n",
      "{\"message\": \"INFO - prep_data_for_training - read_and_merge_files\", \"columns\": \"Index(['_id', 'description', 'category', 'sub_category', 'item_atts',\\n       'datasheet', 'first_page_text', 'openai_category', 'same'],\\n      dtype='object')\"}\n",
      "{\"message\": \"INFO - prep_data_for_training - read_and_merge_files\", \"columns\": \"Index(['_id', 'description', 'category', 'sub_category', 'datasheet'], dtype='object')\"}\n",
      "{\"message\": \"INFO - prep_data_for_training - read_and_merge_files\", \"columns\": \"Index(['_id', 'description', 'category', 'sub_category', 'datasheet',\\n       'first_page_text', 'cleaned_text', 'len_orig', 'len_after',\\n       'comparison_ration'],\\n      dtype='object')\"}\n",
      "{\"message\": \"INFO - prep_data_for_training - read_and_merge_files\", \"columns\": \"Index(['_id', 'description', 'category', 'sub_category', 'datasheet',\\n       'first_page_text', 'cleaned_text', 'len_orig', 'len_after',\\n       'comparison_ration', 'new_label', 'new_score', 'raw', 'new_same'],\\n      dtype='object')\"}\n",
      "{\"message\": \"INFO - prep_data_for_training - read_and_merge_files\", \"columns\": \"Index(['_id', 'description', 'category', 'sub_category', 'datasheet'], dtype='object')\"}\n",
      "{\"message\": \"INFO - prep_data_for_training - read_and_merge_files\", \"columns\": \"Index(['_id', 'description', 'category', 'sub_category', 'datasheet',\\n       'first_page_text', 'cleaned_text'],\\n      dtype='object')\"}\n",
      "{\"message\": \"INFO - prep_data_for_training - read_and_merge_files\", \"columns\": \"Index(['_id', 'description', 'category', 'sub_category', 'datasheet',\\n       'first_page_text', 'cleaned_text', 'new_label', 'new_score', 'raw',\\n       'new_same', 'same_logic', 'Unnamed: 12'],\\n      dtype='object')\"}\n",
      "{\"message\": \"INFO - prep_data_for_training - read_and_merge_files\", \"columns\": \"Index(['_id', 'description', 'category', 'sub_category', 'item_atts',\\n       'datasheet'],\\n      dtype='object')\"}\n",
      "{\"message\": \"INFO - prep_data_for_training - read_and_merge_files\", \"merged_data\": \"                                               datasheet    category  \\\\\\n0      https://app.ikido.tech/api/datasheet/9cd857847...  Capacitors   \\n1      https://app.ikido.tech/api/datasheet/18faacd43...  Connectors   \\n2      https://app.ikido.tech/api/datasheet/726bcdbb5...   Resistors   \\n3      https://app.ikido.tech/api/datasheet/e688e3115...         NaN   \\n4      https://app.ikido.tech/api/datasheet/199bd6b63...  Capacitors   \\n...                                                  ...         ...   \\n22179  https://app.ikido.tech/api/datasheet/04776bfa4...         NaN   \\n22180  https://app.ikido.tech/api/datasheet/d1d70830f...         NaN   \\n22181  https://app.ikido.tech/api/datasheet/a0bc15f8a...         NaN   \\n22182  https://app.ikido.tech/api/datasheet/18cc5812d...         NaN   \\n22183                                                NaN         NaN   \\n\\n      sub_category cleaned_text  new_score new_label  \\n0         Tantalum         <NA>        NaN       NaN  \\n1              NaN         <NA>        NaN       NaN  \\n2       Thick-Film         <NA>        NaN       NaN  \\n3              NaN         <NA>        NaN       NaN  \\n4          Ceramic         <NA>        NaN       NaN  \\n...            ...          ...        ...       ...  \\n22179          NaN         <NA>        NaN       NaN  \\n22180          NaN         <NA>        NaN       NaN  \\n22181          NaN         <NA>        NaN       NaN  \\n22182          NaN         <NA>        NaN       NaN  \\n22183          NaN         <NA>        NaN       NaN  \\n\\n[22184 rows x 6 columns]\"}\n"
     ]
    }
   ],
   "source": [
    "merged_df = p.read_and_merge_files(files)"
   ],
   "metadata": {
    "collapsed": false,
    "pycharm": {
     "name": "#%%\n"
    }
   }
  },
  {
   "cell_type": "code",
   "execution_count": 6,
   "outputs": [
    {
     "name": "stdout",
     "output_type": "stream",
     "text": [
      "{\"message\": \"INFO - prep_data_for_training - remove_duplicate\", \"df\": \"                                               datasheet category  \\\\\\n18824  https://app.ikido.tech/api/datasheet/15622b0b7...       IC   \\n11508  https://app.ikido.tech/api/datasheet/c595c8864...       IC   \\n11506  https://app.ikido.tech/api/datasheet/6d8cad99e...   Diodes   \\n11504  https://app.ikido.tech/api/datasheet/4cbc0130d...       IC   \\n11499  https://app.ikido.tech/api/datasheet/bd3995f13...       IC   \\n...                                                  ...      ...   \\n21552  https://app.ikido.tech/api/datasheet/343a37d35...      NaN   \\n21545  https://app.ikido.tech/api/datasheet/bb1585d4b...      NaN   \\n21542  https://app.ikido.tech/api/datasheet/6b5f68d42...      NaN   \\n349    https://app.ikido.tech/api/datasheet/294de5562...      NaN   \\n343    https://app.ikido.tech/api/datasheet/9812193cc...      NaN   \\n\\n         sub_category                                       cleaned_text  \\\\\\n18824       Amplifier  product discontinuance document #: pdx issue d...   \\n11508           Power  \\u00a9 semiconductor components industries, llc, ap...   \\n11506  ESD Suppressor  product change notification pcn date: apr p/ s...   \\n11504          Memory  product catalog worldwide leader in legacy mem...   \\n11499           Power  data sheet please read the important notice an...   \\n...               ...                                                ...   \\n21552             NaN                                               <NA>   \\n21545             NaN                                               <NA>   \\n21542             NaN                                               <NA>   \\n349               NaN                                               <NA>   \\n343               NaN                                               <NA>   \\n\\n       new_score new_label  \\n18824   0.971060        IC  \\n11508   0.998133        IC  \\n11506   0.979630        IC  \\n11504   0.997207        IC  \\n11499   0.997592        IC  \\n...          ...       ...  \\n21552        NaN       NaN  \\n21545        NaN       NaN  \\n21542        NaN       NaN  \\n349          NaN       NaN  \\n343          NaN       NaN  \\n\\n[4773 rows x 6 columns]\"}\n"
     ]
    }
   ],
   "source": [
    "# merged_df[~merged_df['new_score'].isna()]\n",
    "non_duplicate = p.remove_duplicate(merged_df)"
   ],
   "metadata": {
    "collapsed": false,
    "pycharm": {
     "name": "#%%\n"
    }
   }
  },
  {
   "cell_type": "code",
   "execution_count": 7,
   "outputs": [],
   "source": [
    "p.save_df(non_duplicate, './trainer/output/test.csv')\n",
    "p.save_df(non_duplicate, './trainer/output/test.xlsx')"
   ],
   "metadata": {
    "collapsed": false,
    "pycharm": {
     "name": "#%%\n"
    }
   }
  },
  {
   "cell_type": "markdown",
   "source": [],
   "metadata": {
    "collapsed": false,
    "pycharm": {
     "name": "#%% md\n"
    }
   }
  },
  {
   "cell_type": "code",
   "execution_count": 14,
   "outputs": [
    {
     "name": "stdout",
     "output_type": "stream",
     "text": [
      "rows_count: 4773\n",
      "columns_count: 6\n"
     ]
    }
   ],
   "source": [
    "rows_count = non_duplicate.shape[0]\n",
    "columns_count = non_duplicate.shape[1]\n",
    "print('rows_count:', rows_count)\n",
    "print('columns_count:', columns_count)"
   ],
   "metadata": {
    "collapsed": false,
    "pycharm": {
     "name": "#%%\n"
    }
   }
  },
  {
   "cell_type": "code",
   "execution_count": null,
   "outputs": [],
   "source": [],
   "metadata": {
    "collapsed": false,
    "pycharm": {
     "name": "#%%\n"
    }
   }
  },
  {
   "cell_type": "code",
   "execution_count": null,
   "outputs": [],
   "source": [],
   "metadata": {
    "collapsed": false,
    "pycharm": {
     "name": "#%%\n"
    }
   }
  }
 ],
 "metadata": {
  "kernelspec": {
   "display_name": "Python 3",
   "language": "python",
   "name": "python3"
  },
  "language_info": {
   "codemirror_mode": {
    "name": "ipython",
    "version": 2
   },
   "file_extension": ".py",
   "mimetype": "text/x-python",
   "name": "python",
   "nbconvert_exporter": "python",
   "pygments_lexer": "ipython2",
   "version": "2.7.6"
  }
 },
 "nbformat": 4,
 "nbformat_minor": 0
}