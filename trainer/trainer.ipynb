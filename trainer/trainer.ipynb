{
 "cells": [
  {
   "cell_type": "code",
   "execution_count": null,
   "metadata": {
    "collapsed": true,
    "pycharm": {
     "name": "#%%\n"
    }
   },
   "outputs": [],
   "source": [
    "import pandas as pd\n",
    "\n",
    "from trainer.prep_data_for_training import PrepDataForTrainer\n",
    "\n",
    "p_trainer = PrepDataForTrainer(\n",
    "    debug=True,\n",
    "    data_folder='./trainer/data',\n",
    "    mandatory_columns=['datasheet'],\n",
    "    potential_columns=['category', 'sub_category', 'cleaned_text', 'new_score', 'new_label'],\n",
    "    remove_duplicate_columns=['datasheet']\n",
    ")"
   ]
  },
  {
   "cell_type": "code",
   "execution_count": null,
   "outputs": [],
   "source": [
    "files = p_trainer.load_files()"
   ],
   "metadata": {
    "collapsed": false,
    "pycharm": {
     "name": "#%%\n"
    }
   }
  },
  {
   "cell_type": "code",
   "execution_count": null,
   "outputs": [],
   "source": [
    "merged_df = p_trainer.read_and_merge_files(files)"
   ],
   "metadata": {
    "collapsed": false,
    "pycharm": {
     "name": "#%%\n"
    }
   }
  },
  {
   "cell_type": "code",
   "execution_count": null,
   "outputs": [],
   "source": [
    "non_duplicate = p_trainer.remove_duplicate(merged_df)"
   ],
   "metadata": {
    "collapsed": false,
    "pycharm": {
     "name": "#%%\n"
    }
   }
  },
  {
   "cell_type": "code",
   "execution_count": null,
   "outputs": [],
   "source": [
    "p_trainer.save_df(non_duplicate, './trainer/output/test_notebook.csv')\n",
    "p_trainer.save_df(non_duplicate, './trainer/output/test_notebook.xlsx')"
   ],
   "metadata": {
    "collapsed": false,
    "pycharm": {
     "name": "#%%\n"
    }
   }
  },
  {
   "cell_type": "markdown",
   "source": [],
   "metadata": {
    "collapsed": false,
    "pycharm": {
     "name": "#%% md\n"
    }
   }
  },
  {
   "cell_type": "code",
   "execution_count": null,
   "outputs": [],
   "source": [
    "rows_count = non_duplicate.shape[0]\n",
    "columns_count = non_duplicate.shape[1]\n",
    "print('rows_count:', rows_count)\n",
    "print('columns_count:', columns_count)"
   ],
   "metadata": {
    "collapsed": false,
    "pycharm": {
     "name": "#%%\n"
    }
   }
  },
  {
   "cell_type": "code",
   "execution_count": null,
   "outputs": [],
   "source": [
    "train_df = p_trainer.run_preprocess(non_duplicate, steps=5, stop=5)"
   ],
   "metadata": {
    "collapsed": false,
    "pycharm": {
     "name": "#%%\n"
    }
   }
  },
  {
   "cell_type": "code",
   "execution_count": null,
   "outputs": [],
   "source": [
    "rows_count = train_df.shape[0]\n",
    "columns_count = train_df.shape[1]\n",
    "print('rows_count:', rows_count)\n",
    "print('columns_count:', columns_count)\n",
    "p_trainer.save_df(train_df, './trainer/output/train_notebook.csv')\n",
    "p_trainer.save_df(train_df, './trainer/output/train_notebook.xlsx')\n",
    "# predictables[0].features"
   ],
   "metadata": {
    "collapsed": false,
    "pycharm": {
     "name": "#%%\n"
    }
   }
  }
 ],
 "metadata": {
  "kernelspec": {
   "display_name": "Python 3",
   "language": "python",
   "name": "python3"
  },
  "language_info": {
   "codemirror_mode": {
    "name": "ipython",
    "version": 2
   },
   "file_extension": ".py",
   "mimetype": "text/x-python",
   "name": "python",
   "nbconvert_exporter": "python",
   "pygments_lexer": "ipython2",
   "version": "2.7.6"
  }
 },
 "nbformat": 4,
 "nbformat_minor": 0
}